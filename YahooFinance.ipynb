{
  "nbformat": 4,
  "nbformat_minor": 0,
  "metadata": {
    "colab": {
      "provenance": [],
      "authorship_tag": "ABX9TyPKdx1qxrdMij1IL01+z8pm",
      "include_colab_link": true
    },
    "kernelspec": {
      "name": "python3",
      "display_name": "Python 3"
    },
    "language_info": {
      "name": "python"
    }
  },
  "cells": [
    {
      "cell_type": "markdown",
      "metadata": {
        "id": "view-in-github",
        "colab_type": "text"
      },
      "source": [
        "<a href=\"https://colab.research.google.com/github/IbrahimHammed/DataAnalysis/blob/main/YahooFinance.ipynb\" target=\"_parent\"><img src=\"https://colab.research.google.com/assets/colab-badge.svg\" alt=\"Open In Colab\"/></a>"
      ]
    },
    {
      "cell_type": "code",
      "execution_count": null,
      "metadata": {
        "id": "nACfNRNQYKCe"
      },
      "outputs": [],
      "source": [
        "import yfinance as yf"
      ]
    },
    {
      "cell_type": "code",
      "source": [
        "#yyyy-mm-dd\n",
        "startDate = '2020-01-01'\n",
        "endDate = '2021-12-31'"
      ],
      "metadata": {
        "id": "PmbkTL9UYYC4"
      },
      "execution_count": null,
      "outputs": []
    },
    {
      "cell_type": "code",
      "source": [
        "genie = yf.Ticker('AAPL')"
      ],
      "metadata": {
        "id": "KOfSOQ81YtNw"
      },
      "execution_count": null,
      "outputs": []
    },
    {
      "cell_type": "code",
      "source": [
        "genie.info.items()"
      ],
      "metadata": {
        "colab": {
          "base_uri": "https://localhost:8080/"
        },
        "id": "T7xNJianZFKt",
        "outputId": "7c94b384-ebbd-455c-e12b-b0ccbe3a39a6"
      },
      "execution_count": null,
      "outputs": [
        {
          "output_type": "execute_result",
          "data": {
            "text/plain": [
              "dict_items([('address1', 'One Apple Park Way'), ('city', 'Cupertino'), ('state', 'CA'), ('zip', '95014'), ('country', 'United States'), ('phone', '(408) 996-1010'), ('website', 'https://www.apple.com'), ('industry', 'Consumer Electronics'), ('industryKey', 'consumer-electronics'), ('industryDisp', 'Consumer Electronics'), ('sector', 'Technology'), ('sectorKey', 'technology'), ('sectorDisp', 'Technology'), ('longBusinessSummary', 'Apple Inc. designs, manufactures, and markets smartphones, personal computers, tablets, wearables, and accessories worldwide. The company offers iPhone, a line of smartphones; Mac, a line of personal computers; iPad, a line of multi-purpose tablets; and wearables, home, and accessories comprising AirPods, Apple TV, Apple Watch, Beats products, and HomePod. It also provides AppleCare support and cloud services; and operates various platforms, including the App Store that allow customers to discover and download applications and digital content, such as books, music, video, games, and podcasts, as well as advertising services include third-party licensing arrangements and its own advertising platforms. In addition, the company offers various subscription-based services, such as Apple Arcade, a game subscription service; Apple Fitness+, a personalized fitness service; Apple Music, which offers users a curated listening experience with on-demand radio stations; Apple News+, a subscription news and magazine service; Apple TV+, which offers exclusive original content; Apple Card, a co-branded credit card; and Apple Pay, a cashless payment service, as well as licenses its intellectual property. The company serves consumers, and small and mid-sized businesses; and the education, enterprise, and government markets. It distributes third-party applications for its products through the App Store. The company also sells its products through its retail and online stores, and direct sales force; and third-party cellular network carriers, wholesalers, retailers, and resellers. Apple Inc. was founded in 1976 and is headquartered in Cupertino, California.'), ('fullTimeEmployees', 164000), ('companyOfficers', [{'maxAge': 1, 'name': 'Mr. Timothy D. Cook', 'age': 62, 'title': 'CEO & Director', 'yearBorn': 1961, 'fiscalYear': 2023, 'totalPay': 16239562, 'exercisedValue': 0, 'unexercisedValue': 0}, {'maxAge': 1, 'name': 'Mr. Luca  Maestri', 'age': 60, 'title': 'CFO & Senior VP', 'yearBorn': 1963, 'fiscalYear': 2023, 'totalPay': 4612242, 'exercisedValue': 0, 'unexercisedValue': 0}, {'maxAge': 1, 'name': 'Mr. Jeffrey E. Williams', 'age': 59, 'title': 'Chief Operating Officer', 'yearBorn': 1964, 'fiscalYear': 2023, 'totalPay': 4637585, 'exercisedValue': 0, 'unexercisedValue': 0}, {'maxAge': 1, 'name': 'Ms. Katherine L. Adams', 'age': 59, 'title': 'Senior VP, General Counsel & Secretary', 'yearBorn': 1964, 'fiscalYear': 2023, 'totalPay': 4618064, 'exercisedValue': 0, 'unexercisedValue': 0}, {'maxAge': 1, 'name': \"Ms. Deirdre  O'Brien\", 'age': 56, 'title': 'Chief People Officer & Senior VP of Retail', 'yearBorn': 1967, 'fiscalYear': 2023, 'totalPay': 4613369, 'exercisedValue': 0, 'unexercisedValue': 0}, {'maxAge': 1, 'name': 'Mr. Chris  Kondo', 'title': 'Senior Director of Corporate Accounting', 'fiscalYear': 2023, 'exercisedValue': 0, 'unexercisedValue': 0}, {'maxAge': 1, 'name': 'Suhasini  Chandramouli', 'title': 'Director of Investor Relations', 'fiscalYear': 2023, 'exercisedValue': 0, 'unexercisedValue': 0}, {'maxAge': 1, 'name': 'Mr. Greg  Joswiak', 'title': 'Senior Vice President of Worldwide Marketing', 'fiscalYear': 2023, 'exercisedValue': 0, 'unexercisedValue': 0}, {'maxAge': 1, 'name': 'Mr. Adrian  Perica', 'age': 49, 'title': 'Head of Corporate Development', 'yearBorn': 1974, 'fiscalYear': 2023, 'exercisedValue': 0, 'unexercisedValue': 0}, {'maxAge': 1, 'name': 'Mr. Michael  Fenger', 'title': 'VP of Worldwide Sales', 'fiscalYear': 2023, 'exercisedValue': 0, 'unexercisedValue': 0}]), ('auditRisk', 6), ('boardRisk', 1), ('compensationRisk', 2), ('shareHolderRightsRisk', 1), ('overallRisk', 1), ('governanceEpochDate', 1730419200), ('compensationAsOfEpochDate', 1703980800), ('irWebsite', 'http://investor.apple.com/'), ('maxAge', 86400), ('priceHint', 2), ('previousClose', 222.72), ('open', 224.625), ('dayLow', 224.57), ('dayHigh', 227.87), ('regularMarketPreviousClose', 222.72), ('regularMarketOpen', 224.625), ('regularMarketDayLow', 224.57), ('regularMarketDayHigh', 227.87), ('dividendRate', 1.0), ('dividendYield', 0.0045), ('exDividendDate', 1731024000), ('payoutRatio', 0.1612), ('fiveYearAvgDividendYield', 0.63), ('beta', 1.24), ('trailingPE', 37.333866), ('forwardPE', 27.31527), ('volume', 27541389), ('regularMarketVolume', 27541389), ('averageVolume', 47774623), ('averageVolume10days', 44568480), ('averageDailyVolume10Day', 44568480), ('bid', 225.9), ('ask', 226.97), ('bidSize', 100), ('askSize', 300), ('marketCap', 3431133872128), ('fiftyTwoWeekLow', 164.08), ('fiftyTwoWeekHigh', 237.49), ('priceToSalesTrailing12Months', 8.774493), ('fiftyDayAverage', 226.8564), ('twoHundredDayAverage', 202.5902), ('trailingAnnualDividendRate', 0.98), ('trailingAnnualDividendYield', 0.004400144), ('currency', 'USD'), ('enterpriseValue', 3420484009984), ('profitMargins', 0.23971), ('floatShares', 15091184209), ('sharesOutstanding', 15115799552), ('sharesShort', 140919653), ('sharesShortPriorMonth', 130539888), ('sharesShortPreviousMonthDate', 1726185600), ('dateShortInterest', 1728950400), ('sharesPercentSharesOut', 0.0093), ('heldPercentInsiders', 0.027190002), ('heldPercentInstitutions', 0.61335), ('shortRatio', 2.47), ('shortPercentOfFloat', 0.0093), ('impliedSharesOutstanding', 15169599488), ('bookValue', 3.767), ('priceToBook', 60.257473), ('lastFiscalYearEnd', 1727481600), ('nextFiscalYearEnd', 1759017600), ('mostRecentQuarter', 1727481600), ('earningsQuarterlyGrowth', -0.358), ('netIncomeToCommon', 93736001536), ('trailingEps', 6.08), ('forwardEps', 8.31), ('pegRatio', 2.12), ('lastSplitFactor', '4:1'), ('lastSplitDate', 1598832000), ('enterpriseToRevenue', 8.747), ('enterpriseToEbitda', 25.401), ('52WeekChange', 0.22098565), ('SandP52WeekChange', 0.36382854), ('lastDividendValue', 0.25), ('lastDividendDate', 1723420800), ('exchange', 'NMS'), ('quoteType', 'EQUITY'), ('symbol', 'AAPL'), ('underlyingSymbol', 'AAPL'), ('shortName', 'Apple Inc.'), ('longName', 'Apple Inc.'), ('firstTradeDateEpochUtc', 345479400), ('timeZoneFullName', 'America/New_York'), ('timeZoneShortName', 'EST'), ('uuid', '8b10e4ae-9eeb-3684-921a-9ab27e4d87aa'), ('messageBoardId', 'finmb_24937'), ('gmtOffSetMilliseconds', -18000000), ('currentPrice', 226.9899), ('targetHighPrice', 300.0), ('targetLowPrice', 183.86), ('targetMeanPrice', 240.07), ('targetMedianPrice', 242.89), ('recommendationMean', 2.1), ('recommendationKey', 'buy'), ('numberOfAnalystOpinions', 42), ('totalCash', 65171001344), ('totalCashPerShare', 4.311), ('ebitda', 134660997120), ('totalDebt', 119058997248), ('quickRatio', 0.745), ('currentRatio', 0.867), ('totalRevenue', 391034994688), ('debtToEquity', 209.059), ('revenuePerShare', 25.485), ('returnOnAssets', 0.21464), ('returnOnEquity', 1.5741299), ('freeCashflow', 110846001152), ('operatingCashflow', 118254002176), ('earningsGrowth', -0.341), ('revenueGrowth', 0.061), ('grossMargins', 0.46206), ('ebitdaMargins', 0.34437), ('operatingMargins', 0.31171), ('financialCurrency', 'USD'), ('trailingPegRatio', 2.2963)])"
            ]
          },
          "metadata": {},
          "execution_count": 4
        }
      ]
    },
    {
      "cell_type": "code",
      "source": [
        "# Word:Meaning\n",
        "# Key:Value"
      ],
      "metadata": {
        "id": "8BPeUzzzZS4g"
      },
      "execution_count": null,
      "outputs": []
    },
    {
      "cell_type": "code",
      "source": [
        "genie.info[\"address1\"]"
      ],
      "metadata": {
        "colab": {
          "base_uri": "https://localhost:8080/",
          "height": 36
        },
        "id": "OPB1DKidZsnD",
        "outputId": "d67c49bc-39d1-437f-debc-2727a49e9d4d"
      },
      "execution_count": null,
      "outputs": [
        {
          "output_type": "execute_result",
          "data": {
            "text/plain": [
              "'One Apple Park Way'"
            ],
            "application/vnd.google.colaboratory.intrinsic+json": {
              "type": "string"
            }
          },
          "metadata": {},
          "execution_count": 5
        }
      ]
    },
    {
      "cell_type": "code",
      "source": [
        "genie.info[\"city\"]"
      ],
      "metadata": {
        "colab": {
          "base_uri": "https://localhost:8080/",
          "height": 36
        },
        "id": "27iay_BHZ1wE",
        "outputId": "9aeafae8-1463-43d2-e5ce-e16c4bbd6ffb"
      },
      "execution_count": null,
      "outputs": [
        {
          "output_type": "execute_result",
          "data": {
            "text/plain": [
              "'Cupertino'"
            ],
            "application/vnd.google.colaboratory.intrinsic+json": {
              "type": "string"
            }
          },
          "metadata": {},
          "execution_count": 6
        }
      ]
    },
    {
      "cell_type": "code",
      "source": [
        "genie.info[\"website\"]"
      ],
      "metadata": {
        "colab": {
          "base_uri": "https://localhost:8080/",
          "height": 36
        },
        "id": "aRoQx7nmZ2Ti",
        "outputId": "ee1e0043-816d-4042-83e6-96005c78e469"
      },
      "execution_count": null,
      "outputs": [
        {
          "output_type": "execute_result",
          "data": {
            "text/plain": [
              "'https://www.apple.com'"
            ],
            "application/vnd.google.colaboratory.intrinsic+json": {
              "type": "string"
            }
          },
          "metadata": {},
          "execution_count": 7
        }
      ]
    },
    {
      "cell_type": "code",
      "source": [
        "genie.info[\"industry\"]"
      ],
      "metadata": {
        "colab": {
          "base_uri": "https://localhost:8080/",
          "height": 36
        },
        "id": "d-V9_St9Z28L",
        "outputId": "28320909-1b18-4bc9-a1d7-4dda123a11ae"
      },
      "execution_count": null,
      "outputs": [
        {
          "output_type": "execute_result",
          "data": {
            "text/plain": [
              "'Consumer Electronics'"
            ],
            "application/vnd.google.colaboratory.intrinsic+json": {
              "type": "string"
            }
          },
          "metadata": {},
          "execution_count": 8
        }
      ]
    },
    {
      "cell_type": "code",
      "source": [
        "genie.info[\"fullTimeEmployees\"]"
      ],
      "metadata": {
        "colab": {
          "base_uri": "https://localhost:8080/"
        },
        "id": "UUXOQe3aZ3sr",
        "outputId": "884836eb-fc95-488c-be68-21d071bef8b4"
      },
      "execution_count": null,
      "outputs": [
        {
          "output_type": "execute_result",
          "data": {
            "text/plain": [
              "164000"
            ]
          },
          "metadata": {},
          "execution_count": 9
        }
      ]
    },
    {
      "cell_type": "code",
      "source": [
        "genie.info[\"payoutRatio\"]"
      ],
      "metadata": {
        "colab": {
          "base_uri": "https://localhost:8080/"
        },
        "id": "oOL7sjggZ4Nm",
        "outputId": "1fd3b23a-c9f6-4c65-cb80-c3f48ab08444"
      },
      "execution_count": null,
      "outputs": [
        {
          "output_type": "execute_result",
          "data": {
            "text/plain": [
              "0.1612"
            ]
          },
          "metadata": {},
          "execution_count": 10
        }
      ]
    },
    {
      "cell_type": "code",
      "source": [
        "genie.info[\"marketCap\"]"
      ],
      "metadata": {
        "colab": {
          "base_uri": "https://localhost:8080/"
        },
        "id": "LxypEy7SaRJ7",
        "outputId": "e6d54d39-7bbc-44cc-e4a1-77befa58867c"
      },
      "execution_count": null,
      "outputs": [
        {
          "output_type": "execute_result",
          "data": {
            "text/plain": [
              "3431133872128"
            ]
          },
          "metadata": {},
          "execution_count": 11
        }
      ]
    },
    {
      "cell_type": "code",
      "source": [
        "genie.info[\"enterpriseValue\"]"
      ],
      "metadata": {
        "colab": {
          "base_uri": "https://localhost:8080/"
        },
        "id": "416kHLC-aRwc",
        "outputId": "b308f614-1920-411c-c7d1-ee5ca289542e"
      },
      "execution_count": null,
      "outputs": [
        {
          "output_type": "execute_result",
          "data": {
            "text/plain": [
              "3420484009984"
            ]
          },
          "metadata": {},
          "execution_count": 12
        }
      ]
    },
    {
      "cell_type": "code",
      "source": [
        "genie.info[\"profitMargins\"]"
      ],
      "metadata": {
        "colab": {
          "base_uri": "https://localhost:8080/"
        },
        "id": "a_XlDxgTaSS8",
        "outputId": "b2543e92-7e5e-4c26-b876-e74e3bc30e57"
      },
      "execution_count": null,
      "outputs": [
        {
          "output_type": "execute_result",
          "data": {
            "text/plain": [
              "0.23971"
            ]
          },
          "metadata": {},
          "execution_count": 13
        }
      ]
    },
    {
      "cell_type": "code",
      "source": [
        "genie.info[\"revenueGrowth\"]"
      ],
      "metadata": {
        "colab": {
          "base_uri": "https://localhost:8080/"
        },
        "id": "As_j3K2gaTK-",
        "outputId": "a1492c24-4953-42cb-82bd-651e239006ad"
      },
      "execution_count": null,
      "outputs": [
        {
          "output_type": "execute_result",
          "data": {
            "text/plain": [
              "0.061"
            ]
          },
          "metadata": {},
          "execution_count": 14
        }
      ]
    },
    {
      "cell_type": "code",
      "source": [
        "genie.history(start=startDate, end=endDate)"
      ],
      "metadata": {
        "colab": {
          "base_uri": "https://localhost:8080/",
          "height": 455
        },
        "id": "ntPIuCxqa0TC",
        "outputId": "4d24a154-4514-45b2-d8a2-6efbcf0ac305"
      },
      "execution_count": null,
      "outputs": [
        {
          "output_type": "execute_result",
          "data": {
            "text/plain": [
              "                                 Open        High         Low       Close  \\\n",
              "Date                                                                        \n",
              "2020-01-02 00:00:00-05:00   71.878878   72.936781   71.624112   72.876122   \n",
              "2020-01-03 00:00:00-05:00   72.099657   72.931901   71.941944   72.167595   \n",
              "2020-01-06 00:00:00-05:00   71.284400   72.781468   71.032056   72.742645   \n",
              "2020-01-07 00:00:00-05:00   72.752355   73.009550   72.179735   72.400536   \n",
              "2020-01-08 00:00:00-05:00   72.102098   73.868497   72.102098   73.565201   \n",
              "...                               ...         ...         ...         ...   \n",
              "2021-12-23 00:00:00-05:00  173.206202  174.191168  172.634920  173.629730   \n",
              "2021-12-27 00:00:00-05:00  174.427572  177.707509  174.407883  177.618866   \n",
              "2021-12-28 00:00:00-05:00  177.451443  178.603852  175.845944  176.594513   \n",
              "2021-12-29 00:00:00-05:00  176.633915  177.914374  175.461804  176.683167   \n",
              "2021-12-30 00:00:00-05:00  176.771785  177.855253  175.412527  175.520874   \n",
              "\n",
              "                              Volume  Dividends  Stock Splits  \n",
              "Date                                                           \n",
              "2020-01-02 00:00:00-05:00  135480400        0.0           0.0  \n",
              "2020-01-03 00:00:00-05:00  146322800        0.0           0.0  \n",
              "2020-01-06 00:00:00-05:00  118387200        0.0           0.0  \n",
              "2020-01-07 00:00:00-05:00  108872000        0.0           0.0  \n",
              "2020-01-08 00:00:00-05:00  132079200        0.0           0.0  \n",
              "...                              ...        ...           ...  \n",
              "2021-12-23 00:00:00-05:00   68356600        0.0           0.0  \n",
              "2021-12-27 00:00:00-05:00   74919600        0.0           0.0  \n",
              "2021-12-28 00:00:00-05:00   79144300        0.0           0.0  \n",
              "2021-12-29 00:00:00-05:00   62348900        0.0           0.0  \n",
              "2021-12-30 00:00:00-05:00   59773000        0.0           0.0  \n",
              "\n",
              "[504 rows x 7 columns]"
            ],
            "text/html": [
              "\n",
              "  <div id=\"df-3a531f80-afec-46c0-b889-0410ecb59aa5\" class=\"colab-df-container\">\n",
              "    <div>\n",
              "<style scoped>\n",
              "    .dataframe tbody tr th:only-of-type {\n",
              "        vertical-align: middle;\n",
              "    }\n",
              "\n",
              "    .dataframe tbody tr th {\n",
              "        vertical-align: top;\n",
              "    }\n",
              "\n",
              "    .dataframe thead th {\n",
              "        text-align: right;\n",
              "    }\n",
              "</style>\n",
              "<table border=\"1\" class=\"dataframe\">\n",
              "  <thead>\n",
              "    <tr style=\"text-align: right;\">\n",
              "      <th></th>\n",
              "      <th>Open</th>\n",
              "      <th>High</th>\n",
              "      <th>Low</th>\n",
              "      <th>Close</th>\n",
              "      <th>Volume</th>\n",
              "      <th>Dividends</th>\n",
              "      <th>Stock Splits</th>\n",
              "    </tr>\n",
              "    <tr>\n",
              "      <th>Date</th>\n",
              "      <th></th>\n",
              "      <th></th>\n",
              "      <th></th>\n",
              "      <th></th>\n",
              "      <th></th>\n",
              "      <th></th>\n",
              "      <th></th>\n",
              "    </tr>\n",
              "  </thead>\n",
              "  <tbody>\n",
              "    <tr>\n",
              "      <th>2020-01-02 00:00:00-05:00</th>\n",
              "      <td>71.878878</td>\n",
              "      <td>72.936781</td>\n",
              "      <td>71.624112</td>\n",
              "      <td>72.876122</td>\n",
              "      <td>135480400</td>\n",
              "      <td>0.0</td>\n",
              "      <td>0.0</td>\n",
              "    </tr>\n",
              "    <tr>\n",
              "      <th>2020-01-03 00:00:00-05:00</th>\n",
              "      <td>72.099657</td>\n",
              "      <td>72.931901</td>\n",
              "      <td>71.941944</td>\n",
              "      <td>72.167595</td>\n",
              "      <td>146322800</td>\n",
              "      <td>0.0</td>\n",
              "      <td>0.0</td>\n",
              "    </tr>\n",
              "    <tr>\n",
              "      <th>2020-01-06 00:00:00-05:00</th>\n",
              "      <td>71.284400</td>\n",
              "      <td>72.781468</td>\n",
              "      <td>71.032056</td>\n",
              "      <td>72.742645</td>\n",
              "      <td>118387200</td>\n",
              "      <td>0.0</td>\n",
              "      <td>0.0</td>\n",
              "    </tr>\n",
              "    <tr>\n",
              "      <th>2020-01-07 00:00:00-05:00</th>\n",
              "      <td>72.752355</td>\n",
              "      <td>73.009550</td>\n",
              "      <td>72.179735</td>\n",
              "      <td>72.400536</td>\n",
              "      <td>108872000</td>\n",
              "      <td>0.0</td>\n",
              "      <td>0.0</td>\n",
              "    </tr>\n",
              "    <tr>\n",
              "      <th>2020-01-08 00:00:00-05:00</th>\n",
              "      <td>72.102098</td>\n",
              "      <td>73.868497</td>\n",
              "      <td>72.102098</td>\n",
              "      <td>73.565201</td>\n",
              "      <td>132079200</td>\n",
              "      <td>0.0</td>\n",
              "      <td>0.0</td>\n",
              "    </tr>\n",
              "    <tr>\n",
              "      <th>...</th>\n",
              "      <td>...</td>\n",
              "      <td>...</td>\n",
              "      <td>...</td>\n",
              "      <td>...</td>\n",
              "      <td>...</td>\n",
              "      <td>...</td>\n",
              "      <td>...</td>\n",
              "    </tr>\n",
              "    <tr>\n",
              "      <th>2021-12-23 00:00:00-05:00</th>\n",
              "      <td>173.206202</td>\n",
              "      <td>174.191168</td>\n",
              "      <td>172.634920</td>\n",
              "      <td>173.629730</td>\n",
              "      <td>68356600</td>\n",
              "      <td>0.0</td>\n",
              "      <td>0.0</td>\n",
              "    </tr>\n",
              "    <tr>\n",
              "      <th>2021-12-27 00:00:00-05:00</th>\n",
              "      <td>174.427572</td>\n",
              "      <td>177.707509</td>\n",
              "      <td>174.407883</td>\n",
              "      <td>177.618866</td>\n",
              "      <td>74919600</td>\n",
              "      <td>0.0</td>\n",
              "      <td>0.0</td>\n",
              "    </tr>\n",
              "    <tr>\n",
              "      <th>2021-12-28 00:00:00-05:00</th>\n",
              "      <td>177.451443</td>\n",
              "      <td>178.603852</td>\n",
              "      <td>175.845944</td>\n",
              "      <td>176.594513</td>\n",
              "      <td>79144300</td>\n",
              "      <td>0.0</td>\n",
              "      <td>0.0</td>\n",
              "    </tr>\n",
              "    <tr>\n",
              "      <th>2021-12-29 00:00:00-05:00</th>\n",
              "      <td>176.633915</td>\n",
              "      <td>177.914374</td>\n",
              "      <td>175.461804</td>\n",
              "      <td>176.683167</td>\n",
              "      <td>62348900</td>\n",
              "      <td>0.0</td>\n",
              "      <td>0.0</td>\n",
              "    </tr>\n",
              "    <tr>\n",
              "      <th>2021-12-30 00:00:00-05:00</th>\n",
              "      <td>176.771785</td>\n",
              "      <td>177.855253</td>\n",
              "      <td>175.412527</td>\n",
              "      <td>175.520874</td>\n",
              "      <td>59773000</td>\n",
              "      <td>0.0</td>\n",
              "      <td>0.0</td>\n",
              "    </tr>\n",
              "  </tbody>\n",
              "</table>\n",
              "<p>504 rows × 7 columns</p>\n",
              "</div>\n",
              "    <div class=\"colab-df-buttons\">\n",
              "\n",
              "  <div class=\"colab-df-container\">\n",
              "    <button class=\"colab-df-convert\" onclick=\"convertToInteractive('df-3a531f80-afec-46c0-b889-0410ecb59aa5')\"\n",
              "            title=\"Convert this dataframe to an interactive table.\"\n",
              "            style=\"display:none;\">\n",
              "\n",
              "  <svg xmlns=\"http://www.w3.org/2000/svg\" height=\"24px\" viewBox=\"0 -960 960 960\">\n",
              "    <path d=\"M120-120v-720h720v720H120Zm60-500h600v-160H180v160Zm220 220h160v-160H400v160Zm0 220h160v-160H400v160ZM180-400h160v-160H180v160Zm440 0h160v-160H620v160ZM180-180h160v-160H180v160Zm440 0h160v-160H620v160Z\"/>\n",
              "  </svg>\n",
              "    </button>\n",
              "\n",
              "  <style>\n",
              "    .colab-df-container {\n",
              "      display:flex;\n",
              "      gap: 12px;\n",
              "    }\n",
              "\n",
              "    .colab-df-convert {\n",
              "      background-color: #E8F0FE;\n",
              "      border: none;\n",
              "      border-radius: 50%;\n",
              "      cursor: pointer;\n",
              "      display: none;\n",
              "      fill: #1967D2;\n",
              "      height: 32px;\n",
              "      padding: 0 0 0 0;\n",
              "      width: 32px;\n",
              "    }\n",
              "\n",
              "    .colab-df-convert:hover {\n",
              "      background-color: #E2EBFA;\n",
              "      box-shadow: 0px 1px 2px rgba(60, 64, 67, 0.3), 0px 1px 3px 1px rgba(60, 64, 67, 0.15);\n",
              "      fill: #174EA6;\n",
              "    }\n",
              "\n",
              "    .colab-df-buttons div {\n",
              "      margin-bottom: 4px;\n",
              "    }\n",
              "\n",
              "    [theme=dark] .colab-df-convert {\n",
              "      background-color: #3B4455;\n",
              "      fill: #D2E3FC;\n",
              "    }\n",
              "\n",
              "    [theme=dark] .colab-df-convert:hover {\n",
              "      background-color: #434B5C;\n",
              "      box-shadow: 0px 1px 3px 1px rgba(0, 0, 0, 0.15);\n",
              "      filter: drop-shadow(0px 1px 2px rgba(0, 0, 0, 0.3));\n",
              "      fill: #FFFFFF;\n",
              "    }\n",
              "  </style>\n",
              "\n",
              "    <script>\n",
              "      const buttonEl =\n",
              "        document.querySelector('#df-3a531f80-afec-46c0-b889-0410ecb59aa5 button.colab-df-convert');\n",
              "      buttonEl.style.display =\n",
              "        google.colab.kernel.accessAllowed ? 'block' : 'none';\n",
              "\n",
              "      async function convertToInteractive(key) {\n",
              "        const element = document.querySelector('#df-3a531f80-afec-46c0-b889-0410ecb59aa5');\n",
              "        const dataTable =\n",
              "          await google.colab.kernel.invokeFunction('convertToInteractive',\n",
              "                                                    [key], {});\n",
              "        if (!dataTable) return;\n",
              "\n",
              "        const docLinkHtml = 'Like what you see? Visit the ' +\n",
              "          '<a target=\"_blank\" href=https://colab.research.google.com/notebooks/data_table.ipynb>data table notebook</a>'\n",
              "          + ' to learn more about interactive tables.';\n",
              "        element.innerHTML = '';\n",
              "        dataTable['output_type'] = 'display_data';\n",
              "        await google.colab.output.renderOutput(dataTable, element);\n",
              "        const docLink = document.createElement('div');\n",
              "        docLink.innerHTML = docLinkHtml;\n",
              "        element.appendChild(docLink);\n",
              "      }\n",
              "    </script>\n",
              "  </div>\n",
              "\n",
              "\n",
              "<div id=\"df-56e142bd-68df-406c-a9bd-07f499cd5882\">\n",
              "  <button class=\"colab-df-quickchart\" onclick=\"quickchart('df-56e142bd-68df-406c-a9bd-07f499cd5882')\"\n",
              "            title=\"Suggest charts\"\n",
              "            style=\"display:none;\">\n",
              "\n",
              "<svg xmlns=\"http://www.w3.org/2000/svg\" height=\"24px\"viewBox=\"0 0 24 24\"\n",
              "     width=\"24px\">\n",
              "    <g>\n",
              "        <path d=\"M19 3H5c-1.1 0-2 .9-2 2v14c0 1.1.9 2 2 2h14c1.1 0 2-.9 2-2V5c0-1.1-.9-2-2-2zM9 17H7v-7h2v7zm4 0h-2V7h2v10zm4 0h-2v-4h2v4z\"/>\n",
              "    </g>\n",
              "</svg>\n",
              "  </button>\n",
              "\n",
              "<style>\n",
              "  .colab-df-quickchart {\n",
              "      --bg-color: #E8F0FE;\n",
              "      --fill-color: #1967D2;\n",
              "      --hover-bg-color: #E2EBFA;\n",
              "      --hover-fill-color: #174EA6;\n",
              "      --disabled-fill-color: #AAA;\n",
              "      --disabled-bg-color: #DDD;\n",
              "  }\n",
              "\n",
              "  [theme=dark] .colab-df-quickchart {\n",
              "      --bg-color: #3B4455;\n",
              "      --fill-color: #D2E3FC;\n",
              "      --hover-bg-color: #434B5C;\n",
              "      --hover-fill-color: #FFFFFF;\n",
              "      --disabled-bg-color: #3B4455;\n",
              "      --disabled-fill-color: #666;\n",
              "  }\n",
              "\n",
              "  .colab-df-quickchart {\n",
              "    background-color: var(--bg-color);\n",
              "    border: none;\n",
              "    border-radius: 50%;\n",
              "    cursor: pointer;\n",
              "    display: none;\n",
              "    fill: var(--fill-color);\n",
              "    height: 32px;\n",
              "    padding: 0;\n",
              "    width: 32px;\n",
              "  }\n",
              "\n",
              "  .colab-df-quickchart:hover {\n",
              "    background-color: var(--hover-bg-color);\n",
              "    box-shadow: 0 1px 2px rgba(60, 64, 67, 0.3), 0 1px 3px 1px rgba(60, 64, 67, 0.15);\n",
              "    fill: var(--button-hover-fill-color);\n",
              "  }\n",
              "\n",
              "  .colab-df-quickchart-complete:disabled,\n",
              "  .colab-df-quickchart-complete:disabled:hover {\n",
              "    background-color: var(--disabled-bg-color);\n",
              "    fill: var(--disabled-fill-color);\n",
              "    box-shadow: none;\n",
              "  }\n",
              "\n",
              "  .colab-df-spinner {\n",
              "    border: 2px solid var(--fill-color);\n",
              "    border-color: transparent;\n",
              "    border-bottom-color: var(--fill-color);\n",
              "    animation:\n",
              "      spin 1s steps(1) infinite;\n",
              "  }\n",
              "\n",
              "  @keyframes spin {\n",
              "    0% {\n",
              "      border-color: transparent;\n",
              "      border-bottom-color: var(--fill-color);\n",
              "      border-left-color: var(--fill-color);\n",
              "    }\n",
              "    20% {\n",
              "      border-color: transparent;\n",
              "      border-left-color: var(--fill-color);\n",
              "      border-top-color: var(--fill-color);\n",
              "    }\n",
              "    30% {\n",
              "      border-color: transparent;\n",
              "      border-left-color: var(--fill-color);\n",
              "      border-top-color: var(--fill-color);\n",
              "      border-right-color: var(--fill-color);\n",
              "    }\n",
              "    40% {\n",
              "      border-color: transparent;\n",
              "      border-right-color: var(--fill-color);\n",
              "      border-top-color: var(--fill-color);\n",
              "    }\n",
              "    60% {\n",
              "      border-color: transparent;\n",
              "      border-right-color: var(--fill-color);\n",
              "    }\n",
              "    80% {\n",
              "      border-color: transparent;\n",
              "      border-right-color: var(--fill-color);\n",
              "      border-bottom-color: var(--fill-color);\n",
              "    }\n",
              "    90% {\n",
              "      border-color: transparent;\n",
              "      border-bottom-color: var(--fill-color);\n",
              "    }\n",
              "  }\n",
              "</style>\n",
              "\n",
              "  <script>\n",
              "    async function quickchart(key) {\n",
              "      const quickchartButtonEl =\n",
              "        document.querySelector('#' + key + ' button');\n",
              "      quickchartButtonEl.disabled = true;  // To prevent multiple clicks.\n",
              "      quickchartButtonEl.classList.add('colab-df-spinner');\n",
              "      try {\n",
              "        const charts = await google.colab.kernel.invokeFunction(\n",
              "            'suggestCharts', [key], {});\n",
              "      } catch (error) {\n",
              "        console.error('Error during call to suggestCharts:', error);\n",
              "      }\n",
              "      quickchartButtonEl.classList.remove('colab-df-spinner');\n",
              "      quickchartButtonEl.classList.add('colab-df-quickchart-complete');\n",
              "    }\n",
              "    (() => {\n",
              "      let quickchartButtonEl =\n",
              "        document.querySelector('#df-56e142bd-68df-406c-a9bd-07f499cd5882 button');\n",
              "      quickchartButtonEl.style.display =\n",
              "        google.colab.kernel.accessAllowed ? 'block' : 'none';\n",
              "    })();\n",
              "  </script>\n",
              "</div>\n",
              "\n",
              "    </div>\n",
              "  </div>\n"
            ],
            "application/vnd.google.colaboratory.intrinsic+json": {
              "type": "dataframe",
              "summary": "{\n  \"name\": \"genie\",\n  \"rows\": 504,\n  \"fields\": [\n    {\n      \"column\": \"Date\",\n      \"properties\": {\n        \"dtype\": \"date\",\n        \"min\": \"2020-01-02 00:00:00-05:00\",\n        \"max\": \"2021-12-30 00:00:00-05:00\",\n        \"num_unique_values\": 504,\n        \"samples\": [\n          \"2020-09-09 00:00:00-04:00\",\n          \"2021-02-03 00:00:00-05:00\",\n          \"2021-12-09 00:00:00-05:00\"\n        ],\n        \"semantic_type\": \"\",\n        \"description\": \"\"\n      }\n    },\n    {\n      \"column\": \"Open\",\n      \"properties\": {\n        \"dtype\": \"number\",\n        \"std\": 29.1600893603075,\n        \"min\": 55.47205507529818,\n        \"max\": 178.3969906106161,\n        \"num_unique_values\": 504,\n        \"samples\": [\n          114.5917354305261,\n          132.89965800416726,\n          172.28036720172804\n        ],\n        \"semantic_type\": \"\",\n        \"description\": \"\"\n      }\n    },\n    {\n      \"column\": \"High\",\n      \"properties\": {\n        \"dtype\": \"number\",\n        \"std\": 29.29638787073787,\n        \"min\": 55.57420415181615,\n        \"max\": 179.39181563011905,\n        \"num_unique_values\": 504,\n        \"samples\": [\n          116.4289531002265,\n          132.90945687336358,\n          174.09270061951244\n        ],\n        \"semantic_type\": \"\",\n        \"description\": \"\"\n      }\n    },\n    {\n      \"column\": \"Low\",\n      \"properties\": {\n        \"dtype\": \"number\",\n        \"std\": 28.973637496028616,\n        \"min\": 51.70954739009817,\n        \"max\": 175.84594433664682,\n        \"num_unique_values\": 504,\n        \"samples\": [\n          112.63724569245846,\n          130.7949624744438,\n          171.3052456745253\n        ],\n        \"semantic_type\": \"\",\n        \"description\": \"\"\n      }\n    },\n    {\n      \"column\": \"Close\",\n      \"properties\": {\n        \"dtype\": \"number\",\n        \"std\": 29.149528069275085,\n        \"min\": 54.569732666015625,\n        \"max\": 177.61886596679688,\n        \"num_unique_values\": 500,\n        \"samples\": [\n          128.1390380859375,\n          68.78068542480469,\n          134.80728149414062\n        ],\n        \"semantic_type\": \"\",\n        \"description\": \"\"\n      }\n    },\n    {\n      \"column\": \"Volume\",\n      \"properties\": {\n        \"dtype\": \"number\",\n        \"std\": 63160899,\n        \"min\": 41000000,\n        \"max\": 426510000,\n        \"num_unique_values\": 504,\n        \"samples\": [\n          176940500,\n          89880900,\n          108923700\n        ],\n        \"semantic_type\": \"\",\n        \"description\": \"\"\n      }\n    },\n    {\n      \"column\": \"Dividends\",\n      \"properties\": {\n        \"dtype\": \"number\",\n        \"std\": 0.026182041194282617,\n        \"min\": 0.0,\n        \"max\": 0.22,\n        \"num_unique_values\": 4,\n        \"samples\": [\n          0.1925,\n          0.22,\n          0.0\n        ],\n        \"semantic_type\": \"\",\n        \"description\": \"\"\n      }\n    },\n    {\n      \"column\": \"Stock Splits\",\n      \"properties\": {\n        \"dtype\": \"number\",\n        \"std\": 0.17817416127495103,\n        \"min\": 0.0,\n        \"max\": 4.0,\n        \"num_unique_values\": 2,\n        \"samples\": [\n          4.0,\n          0.0\n        ],\n        \"semantic_type\": \"\",\n        \"description\": \"\"\n      }\n    }\n  ]\n}"
            }
          },
          "metadata": {},
          "execution_count": 15
        }
      ]
    },
    {
      "cell_type": "code",
      "source": [
        "# ['1d', '5d', '1mo', '3mo', '6mo', '1y', '2y', '5y', '10y', 'ytd', 'max']\n",
        "genie.history(period=\"6mo\")"
      ],
      "metadata": {
        "colab": {
          "base_uri": "https://localhost:8080/",
          "height": 455
        },
        "id": "EmNoNxF7bF6k",
        "outputId": "4173f581-8e60-47f3-ab44-8cfd2248b665"
      },
      "execution_count": null,
      "outputs": [
        {
          "output_type": "execute_result",
          "data": {
            "text/plain": [
              "                                 Open        High         Low       Close  \\\n",
              "Date                                                                        \n",
              "2024-05-08 00:00:00-04:00  182.391219  182.610668  180.994722  182.281494   \n",
              "2024-05-09 00:00:00-04:00  182.101937  184.196674  181.653069  184.106903   \n",
              "2024-05-10 00:00:00-04:00  184.686216  184.875998  181.919429  182.838364   \n",
              "2024-05-13 00:00:00-04:00  185.225611  186.883696  184.406552  186.064636   \n",
              "2024-05-14 00:00:00-04:00  187.293212  188.082307  186.074621  187.213303   \n",
              "...                               ...         ...         ...         ...   \n",
              "2024-11-01 00:00:00-04:00  220.970001  225.350006  220.270004  222.910004   \n",
              "2024-11-04 00:00:00-05:00  220.990005  222.789993  219.710007  222.009995   \n",
              "2024-11-05 00:00:00-05:00  221.800003  223.949997  221.139999  223.449997   \n",
              "2024-11-06 00:00:00-05:00  222.610001  226.070007  221.190002  222.720001   \n",
              "2024-11-07 00:00:00-05:00  224.625000  227.869995  224.570007  227.490005   \n",
              "\n",
              "                             Volume  Dividends  Stock Splits  \n",
              "Date                                                          \n",
              "2024-05-08 00:00:00-04:00  45057100       0.00           0.0  \n",
              "2024-05-09 00:00:00-04:00  48983000       0.00           0.0  \n",
              "2024-05-10 00:00:00-04:00  50759500       0.25           0.0  \n",
              "2024-05-13 00:00:00-04:00  72044800       0.00           0.0  \n",
              "2024-05-14 00:00:00-04:00  52393600       0.00           0.0  \n",
              "...                             ...        ...           ...  \n",
              "2024-11-01 00:00:00-04:00  65276700       0.00           0.0  \n",
              "2024-11-04 00:00:00-05:00  44944500       0.00           0.0  \n",
              "2024-11-05 00:00:00-05:00  28111300       0.00           0.0  \n",
              "2024-11-06 00:00:00-05:00  54561100       0.00           0.0  \n",
              "2024-11-07 00:00:00-05:00  38917634       0.00           0.0  \n",
              "\n",
              "[128 rows x 7 columns]"
            ],
            "text/html": [
              "\n",
              "  <div id=\"df-9ff17b37-9338-4c45-aae4-5b47d8d4fd63\" class=\"colab-df-container\">\n",
              "    <div>\n",
              "<style scoped>\n",
              "    .dataframe tbody tr th:only-of-type {\n",
              "        vertical-align: middle;\n",
              "    }\n",
              "\n",
              "    .dataframe tbody tr th {\n",
              "        vertical-align: top;\n",
              "    }\n",
              "\n",
              "    .dataframe thead th {\n",
              "        text-align: right;\n",
              "    }\n",
              "</style>\n",
              "<table border=\"1\" class=\"dataframe\">\n",
              "  <thead>\n",
              "    <tr style=\"text-align: right;\">\n",
              "      <th></th>\n",
              "      <th>Open</th>\n",
              "      <th>High</th>\n",
              "      <th>Low</th>\n",
              "      <th>Close</th>\n",
              "      <th>Volume</th>\n",
              "      <th>Dividends</th>\n",
              "      <th>Stock Splits</th>\n",
              "    </tr>\n",
              "    <tr>\n",
              "      <th>Date</th>\n",
              "      <th></th>\n",
              "      <th></th>\n",
              "      <th></th>\n",
              "      <th></th>\n",
              "      <th></th>\n",
              "      <th></th>\n",
              "      <th></th>\n",
              "    </tr>\n",
              "  </thead>\n",
              "  <tbody>\n",
              "    <tr>\n",
              "      <th>2024-05-08 00:00:00-04:00</th>\n",
              "      <td>182.391219</td>\n",
              "      <td>182.610668</td>\n",
              "      <td>180.994722</td>\n",
              "      <td>182.281494</td>\n",
              "      <td>45057100</td>\n",
              "      <td>0.00</td>\n",
              "      <td>0.0</td>\n",
              "    </tr>\n",
              "    <tr>\n",
              "      <th>2024-05-09 00:00:00-04:00</th>\n",
              "      <td>182.101937</td>\n",
              "      <td>184.196674</td>\n",
              "      <td>181.653069</td>\n",
              "      <td>184.106903</td>\n",
              "      <td>48983000</td>\n",
              "      <td>0.00</td>\n",
              "      <td>0.0</td>\n",
              "    </tr>\n",
              "    <tr>\n",
              "      <th>2024-05-10 00:00:00-04:00</th>\n",
              "      <td>184.686216</td>\n",
              "      <td>184.875998</td>\n",
              "      <td>181.919429</td>\n",
              "      <td>182.838364</td>\n",
              "      <td>50759500</td>\n",
              "      <td>0.25</td>\n",
              "      <td>0.0</td>\n",
              "    </tr>\n",
              "    <tr>\n",
              "      <th>2024-05-13 00:00:00-04:00</th>\n",
              "      <td>185.225611</td>\n",
              "      <td>186.883696</td>\n",
              "      <td>184.406552</td>\n",
              "      <td>186.064636</td>\n",
              "      <td>72044800</td>\n",
              "      <td>0.00</td>\n",
              "      <td>0.0</td>\n",
              "    </tr>\n",
              "    <tr>\n",
              "      <th>2024-05-14 00:00:00-04:00</th>\n",
              "      <td>187.293212</td>\n",
              "      <td>188.082307</td>\n",
              "      <td>186.074621</td>\n",
              "      <td>187.213303</td>\n",
              "      <td>52393600</td>\n",
              "      <td>0.00</td>\n",
              "      <td>0.0</td>\n",
              "    </tr>\n",
              "    <tr>\n",
              "      <th>...</th>\n",
              "      <td>...</td>\n",
              "      <td>...</td>\n",
              "      <td>...</td>\n",
              "      <td>...</td>\n",
              "      <td>...</td>\n",
              "      <td>...</td>\n",
              "      <td>...</td>\n",
              "    </tr>\n",
              "    <tr>\n",
              "      <th>2024-11-01 00:00:00-04:00</th>\n",
              "      <td>220.970001</td>\n",
              "      <td>225.350006</td>\n",
              "      <td>220.270004</td>\n",
              "      <td>222.910004</td>\n",
              "      <td>65276700</td>\n",
              "      <td>0.00</td>\n",
              "      <td>0.0</td>\n",
              "    </tr>\n",
              "    <tr>\n",
              "      <th>2024-11-04 00:00:00-05:00</th>\n",
              "      <td>220.990005</td>\n",
              "      <td>222.789993</td>\n",
              "      <td>219.710007</td>\n",
              "      <td>222.009995</td>\n",
              "      <td>44944500</td>\n",
              "      <td>0.00</td>\n",
              "      <td>0.0</td>\n",
              "    </tr>\n",
              "    <tr>\n",
              "      <th>2024-11-05 00:00:00-05:00</th>\n",
              "      <td>221.800003</td>\n",
              "      <td>223.949997</td>\n",
              "      <td>221.139999</td>\n",
              "      <td>223.449997</td>\n",
              "      <td>28111300</td>\n",
              "      <td>0.00</td>\n",
              "      <td>0.0</td>\n",
              "    </tr>\n",
              "    <tr>\n",
              "      <th>2024-11-06 00:00:00-05:00</th>\n",
              "      <td>222.610001</td>\n",
              "      <td>226.070007</td>\n",
              "      <td>221.190002</td>\n",
              "      <td>222.720001</td>\n",
              "      <td>54561100</td>\n",
              "      <td>0.00</td>\n",
              "      <td>0.0</td>\n",
              "    </tr>\n",
              "    <tr>\n",
              "      <th>2024-11-07 00:00:00-05:00</th>\n",
              "      <td>224.625000</td>\n",
              "      <td>227.869995</td>\n",
              "      <td>224.570007</td>\n",
              "      <td>227.490005</td>\n",
              "      <td>38917634</td>\n",
              "      <td>0.00</td>\n",
              "      <td>0.0</td>\n",
              "    </tr>\n",
              "  </tbody>\n",
              "</table>\n",
              "<p>128 rows × 7 columns</p>\n",
              "</div>\n",
              "    <div class=\"colab-df-buttons\">\n",
              "\n",
              "  <div class=\"colab-df-container\">\n",
              "    <button class=\"colab-df-convert\" onclick=\"convertToInteractive('df-9ff17b37-9338-4c45-aae4-5b47d8d4fd63')\"\n",
              "            title=\"Convert this dataframe to an interactive table.\"\n",
              "            style=\"display:none;\">\n",
              "\n",
              "  <svg xmlns=\"http://www.w3.org/2000/svg\" height=\"24px\" viewBox=\"0 -960 960 960\">\n",
              "    <path d=\"M120-120v-720h720v720H120Zm60-500h600v-160H180v160Zm220 220h160v-160H400v160Zm0 220h160v-160H400v160ZM180-400h160v-160H180v160Zm440 0h160v-160H620v160ZM180-180h160v-160H180v160Zm440 0h160v-160H620v160Z\"/>\n",
              "  </svg>\n",
              "    </button>\n",
              "\n",
              "  <style>\n",
              "    .colab-df-container {\n",
              "      display:flex;\n",
              "      gap: 12px;\n",
              "    }\n",
              "\n",
              "    .colab-df-convert {\n",
              "      background-color: #E8F0FE;\n",
              "      border: none;\n",
              "      border-radius: 50%;\n",
              "      cursor: pointer;\n",
              "      display: none;\n",
              "      fill: #1967D2;\n",
              "      height: 32px;\n",
              "      padding: 0 0 0 0;\n",
              "      width: 32px;\n",
              "    }\n",
              "\n",
              "    .colab-df-convert:hover {\n",
              "      background-color: #E2EBFA;\n",
              "      box-shadow: 0px 1px 2px rgba(60, 64, 67, 0.3), 0px 1px 3px 1px rgba(60, 64, 67, 0.15);\n",
              "      fill: #174EA6;\n",
              "    }\n",
              "\n",
              "    .colab-df-buttons div {\n",
              "      margin-bottom: 4px;\n",
              "    }\n",
              "\n",
              "    [theme=dark] .colab-df-convert {\n",
              "      background-color: #3B4455;\n",
              "      fill: #D2E3FC;\n",
              "    }\n",
              "\n",
              "    [theme=dark] .colab-df-convert:hover {\n",
              "      background-color: #434B5C;\n",
              "      box-shadow: 0px 1px 3px 1px rgba(0, 0, 0, 0.15);\n",
              "      filter: drop-shadow(0px 1px 2px rgba(0, 0, 0, 0.3));\n",
              "      fill: #FFFFFF;\n",
              "    }\n",
              "  </style>\n",
              "\n",
              "    <script>\n",
              "      const buttonEl =\n",
              "        document.querySelector('#df-9ff17b37-9338-4c45-aae4-5b47d8d4fd63 button.colab-df-convert');\n",
              "      buttonEl.style.display =\n",
              "        google.colab.kernel.accessAllowed ? 'block' : 'none';\n",
              "\n",
              "      async function convertToInteractive(key) {\n",
              "        const element = document.querySelector('#df-9ff17b37-9338-4c45-aae4-5b47d8d4fd63');\n",
              "        const dataTable =\n",
              "          await google.colab.kernel.invokeFunction('convertToInteractive',\n",
              "                                                    [key], {});\n",
              "        if (!dataTable) return;\n",
              "\n",
              "        const docLinkHtml = 'Like what you see? Visit the ' +\n",
              "          '<a target=\"_blank\" href=https://colab.research.google.com/notebooks/data_table.ipynb>data table notebook</a>'\n",
              "          + ' to learn more about interactive tables.';\n",
              "        element.innerHTML = '';\n",
              "        dataTable['output_type'] = 'display_data';\n",
              "        await google.colab.output.renderOutput(dataTable, element);\n",
              "        const docLink = document.createElement('div');\n",
              "        docLink.innerHTML = docLinkHtml;\n",
              "        element.appendChild(docLink);\n",
              "      }\n",
              "    </script>\n",
              "  </div>\n",
              "\n",
              "\n",
              "<div id=\"df-596d0743-f1ff-42db-b0d9-e6acd9e3e67a\">\n",
              "  <button class=\"colab-df-quickchart\" onclick=\"quickchart('df-596d0743-f1ff-42db-b0d9-e6acd9e3e67a')\"\n",
              "            title=\"Suggest charts\"\n",
              "            style=\"display:none;\">\n",
              "\n",
              "<svg xmlns=\"http://www.w3.org/2000/svg\" height=\"24px\"viewBox=\"0 0 24 24\"\n",
              "     width=\"24px\">\n",
              "    <g>\n",
              "        <path d=\"M19 3H5c-1.1 0-2 .9-2 2v14c0 1.1.9 2 2 2h14c1.1 0 2-.9 2-2V5c0-1.1-.9-2-2-2zM9 17H7v-7h2v7zm4 0h-2V7h2v10zm4 0h-2v-4h2v4z\"/>\n",
              "    </g>\n",
              "</svg>\n",
              "  </button>\n",
              "\n",
              "<style>\n",
              "  .colab-df-quickchart {\n",
              "      --bg-color: #E8F0FE;\n",
              "      --fill-color: #1967D2;\n",
              "      --hover-bg-color: #E2EBFA;\n",
              "      --hover-fill-color: #174EA6;\n",
              "      --disabled-fill-color: #AAA;\n",
              "      --disabled-bg-color: #DDD;\n",
              "  }\n",
              "\n",
              "  [theme=dark] .colab-df-quickchart {\n",
              "      --bg-color: #3B4455;\n",
              "      --fill-color: #D2E3FC;\n",
              "      --hover-bg-color: #434B5C;\n",
              "      --hover-fill-color: #FFFFFF;\n",
              "      --disabled-bg-color: #3B4455;\n",
              "      --disabled-fill-color: #666;\n",
              "  }\n",
              "\n",
              "  .colab-df-quickchart {\n",
              "    background-color: var(--bg-color);\n",
              "    border: none;\n",
              "    border-radius: 50%;\n",
              "    cursor: pointer;\n",
              "    display: none;\n",
              "    fill: var(--fill-color);\n",
              "    height: 32px;\n",
              "    padding: 0;\n",
              "    width: 32px;\n",
              "  }\n",
              "\n",
              "  .colab-df-quickchart:hover {\n",
              "    background-color: var(--hover-bg-color);\n",
              "    box-shadow: 0 1px 2px rgba(60, 64, 67, 0.3), 0 1px 3px 1px rgba(60, 64, 67, 0.15);\n",
              "    fill: var(--button-hover-fill-color);\n",
              "  }\n",
              "\n",
              "  .colab-df-quickchart-complete:disabled,\n",
              "  .colab-df-quickchart-complete:disabled:hover {\n",
              "    background-color: var(--disabled-bg-color);\n",
              "    fill: var(--disabled-fill-color);\n",
              "    box-shadow: none;\n",
              "  }\n",
              "\n",
              "  .colab-df-spinner {\n",
              "    border: 2px solid var(--fill-color);\n",
              "    border-color: transparent;\n",
              "    border-bottom-color: var(--fill-color);\n",
              "    animation:\n",
              "      spin 1s steps(1) infinite;\n",
              "  }\n",
              "\n",
              "  @keyframes spin {\n",
              "    0% {\n",
              "      border-color: transparent;\n",
              "      border-bottom-color: var(--fill-color);\n",
              "      border-left-color: var(--fill-color);\n",
              "    }\n",
              "    20% {\n",
              "      border-color: transparent;\n",
              "      border-left-color: var(--fill-color);\n",
              "      border-top-color: var(--fill-color);\n",
              "    }\n",
              "    30% {\n",
              "      border-color: transparent;\n",
              "      border-left-color: var(--fill-color);\n",
              "      border-top-color: var(--fill-color);\n",
              "      border-right-color: var(--fill-color);\n",
              "    }\n",
              "    40% {\n",
              "      border-color: transparent;\n",
              "      border-right-color: var(--fill-color);\n",
              "      border-top-color: var(--fill-color);\n",
              "    }\n",
              "    60% {\n",
              "      border-color: transparent;\n",
              "      border-right-color: var(--fill-color);\n",
              "    }\n",
              "    80% {\n",
              "      border-color: transparent;\n",
              "      border-right-color: var(--fill-color);\n",
              "      border-bottom-color: var(--fill-color);\n",
              "    }\n",
              "    90% {\n",
              "      border-color: transparent;\n",
              "      border-bottom-color: var(--fill-color);\n",
              "    }\n",
              "  }\n",
              "</style>\n",
              "\n",
              "  <script>\n",
              "    async function quickchart(key) {\n",
              "      const quickchartButtonEl =\n",
              "        document.querySelector('#' + key + ' button');\n",
              "      quickchartButtonEl.disabled = true;  // To prevent multiple clicks.\n",
              "      quickchartButtonEl.classList.add('colab-df-spinner');\n",
              "      try {\n",
              "        const charts = await google.colab.kernel.invokeFunction(\n",
              "            'suggestCharts', [key], {});\n",
              "      } catch (error) {\n",
              "        console.error('Error during call to suggestCharts:', error);\n",
              "      }\n",
              "      quickchartButtonEl.classList.remove('colab-df-spinner');\n",
              "      quickchartButtonEl.classList.add('colab-df-quickchart-complete');\n",
              "    }\n",
              "    (() => {\n",
              "      let quickchartButtonEl =\n",
              "        document.querySelector('#df-596d0743-f1ff-42db-b0d9-e6acd9e3e67a button');\n",
              "      quickchartButtonEl.style.display =\n",
              "        google.colab.kernel.accessAllowed ? 'block' : 'none';\n",
              "    })();\n",
              "  </script>\n",
              "</div>\n",
              "\n",
              "    </div>\n",
              "  </div>\n"
            ],
            "application/vnd.google.colaboratory.intrinsic+json": {
              "type": "dataframe",
              "summary": "{\n  \"name\": \"genie\",\n  \"rows\": 128,\n  \"fields\": [\n    {\n      \"column\": \"Date\",\n      \"properties\": {\n        \"dtype\": \"date\",\n        \"min\": \"2024-05-08 00:00:00-04:00\",\n        \"max\": \"2024-11-07 00:00:00-05:00\",\n        \"num_unique_values\": 128,\n        \"samples\": [\n          \"2024-07-29 00:00:00-04:00\",\n          \"2024-07-08 00:00:00-04:00\",\n          \"2024-06-05 00:00:00-04:00\"\n        ],\n        \"semantic_type\": \"\",\n        \"description\": \"\"\n      }\n    },\n    {\n      \"column\": \"Open\",\n      \"properties\": {\n        \"dtype\": \"number\",\n        \"std\": 14.72969389169939,\n        \"min\": 182.1019366221584,\n        \"max\": 236.2065948881155,\n        \"num_unique_values\": 128,\n        \"samples\": [\n          216.70916725528429,\n          226.82744313327814,\n          195.17408160134354\n        ],\n        \"semantic_type\": \"\",\n        \"description\": \"\"\n      }\n    },\n    {\n      \"column\": \"High\",\n      \"properties\": {\n        \"dtype\": \"number\",\n        \"std\": 14.575546073009026,\n        \"min\": 182.6106679669662,\n        \"max\": 237.49000549316406,\n        \"num_unique_values\": 127,\n        \"samples\": [\n          214.9212332396349,\n          232.1199951171875,\n          221.77999877929688\n        ],\n        \"semantic_type\": \"\",\n        \"description\": \"\"\n      }\n    },\n    {\n      \"column\": \"Low\",\n      \"properties\": {\n        \"dtype\": \"number\",\n        \"std\": 14.425306768918693,\n        \"min\": 180.99472234488195,\n        \"max\": 234.4499969482422,\n        \"num_unique_values\": 128,\n        \"samples\": [\n          215.50055949707524,\n          222.99188645966368,\n          194.64469558174162\n        ],\n        \"semantic_type\": \"\",\n        \"description\": \"\"\n      }\n    },\n    {\n      \"column\": \"Close\",\n      \"properties\": {\n        \"dtype\": \"number\",\n        \"std\": 14.466019008499433,\n        \"min\": 182.281494140625,\n        \"max\": 236.47999572753906,\n        \"num_unique_values\": 127,\n        \"samples\": [\n          212.2443389892578,\n          232.14999389648438,\n          220.85000610351562\n        ],\n        \"semantic_type\": \"\",\n        \"description\": \"\"\n      }\n    },\n    {\n      \"column\": \"Volume\",\n      \"properties\": {\n        \"dtype\": \"number\",\n        \"std\": 37183931,\n        \"min\": 28111300,\n        \"max\": 318679900,\n        \"num_unique_values\": 128,\n        \"samples\": [\n          36311800,\n          59085900,\n          54156800\n        ],\n        \"semantic_type\": \"\",\n        \"description\": \"\"\n      }\n    },\n    {\n      \"column\": \"Dividends\",\n      \"properties\": {\n        \"dtype\": \"number\",\n        \"std\": 0.03112672535773821,\n        \"min\": 0.0,\n        \"max\": 0.25,\n        \"num_unique_values\": 2,\n        \"samples\": [\n          0.25,\n          0.0\n        ],\n        \"semantic_type\": \"\",\n        \"description\": \"\"\n      }\n    },\n    {\n      \"column\": \"Stock Splits\",\n      \"properties\": {\n        \"dtype\": \"number\",\n        \"std\": 0.0,\n        \"min\": 0.0,\n        \"max\": 0.0,\n        \"num_unique_values\": 1,\n        \"samples\": [\n          0.0\n        ],\n        \"semantic_type\": \"\",\n        \"description\": \"\"\n      }\n    }\n  ]\n}"
            }
          },
          "metadata": {},
          "execution_count": 20
        }
      ]
    },
    {
      "cell_type": "code",
      "source": [
        "genie.info.keys()"
      ],
      "metadata": {
        "colab": {
          "base_uri": "https://localhost:8080/"
        },
        "id": "wIMDrZQJcGwp",
        "outputId": "bee1fb2f-070c-4b7d-8407-55b267af6831"
      },
      "execution_count": null,
      "outputs": [
        {
          "output_type": "execute_result",
          "data": {
            "text/plain": [
              "dict_keys(['address1', 'city', 'state', 'zip', 'country', 'phone', 'website', 'industry', 'industryKey', 'industryDisp', 'sector', 'sectorKey', 'sectorDisp', 'longBusinessSummary', 'fullTimeEmployees', 'companyOfficers', 'auditRisk', 'boardRisk', 'compensationRisk', 'shareHolderRightsRisk', 'overallRisk', 'governanceEpochDate', 'compensationAsOfEpochDate', 'irWebsite', 'maxAge', 'priceHint', 'previousClose', 'open', 'dayLow', 'dayHigh', 'regularMarketPreviousClose', 'regularMarketOpen', 'regularMarketDayLow', 'regularMarketDayHigh', 'dividendRate', 'dividendYield', 'exDividendDate', 'payoutRatio', 'fiveYearAvgDividendYield', 'beta', 'trailingPE', 'forwardPE', 'volume', 'regularMarketVolume', 'averageVolume', 'averageVolume10days', 'averageDailyVolume10Day', 'bid', 'ask', 'bidSize', 'askSize', 'marketCap', 'fiftyTwoWeekLow', 'fiftyTwoWeekHigh', 'priceToSalesTrailing12Months', 'fiftyDayAverage', 'twoHundredDayAverage', 'trailingAnnualDividendRate', 'trailingAnnualDividendYield', 'currency', 'enterpriseValue', 'profitMargins', 'floatShares', 'sharesOutstanding', 'sharesShort', 'sharesShortPriorMonth', 'sharesShortPreviousMonthDate', 'dateShortInterest', 'sharesPercentSharesOut', 'heldPercentInsiders', 'heldPercentInstitutions', 'shortRatio', 'shortPercentOfFloat', 'impliedSharesOutstanding', 'bookValue', 'priceToBook', 'lastFiscalYearEnd', 'nextFiscalYearEnd', 'mostRecentQuarter', 'earningsQuarterlyGrowth', 'netIncomeToCommon', 'trailingEps', 'forwardEps', 'pegRatio', 'lastSplitFactor', 'lastSplitDate', 'enterpriseToRevenue', 'enterpriseToEbitda', '52WeekChange', 'SandP52WeekChange', 'lastDividendValue', 'lastDividendDate', 'exchange', 'quoteType', 'symbol', 'underlyingSymbol', 'shortName', 'longName', 'firstTradeDateEpochUtc', 'timeZoneFullName', 'timeZoneShortName', 'uuid', 'messageBoardId', 'gmtOffSetMilliseconds', 'currentPrice', 'targetHighPrice', 'targetLowPrice', 'targetMeanPrice', 'targetMedianPrice', 'recommendationMean', 'recommendationKey', 'numberOfAnalystOpinions', 'totalCash', 'totalCashPerShare', 'ebitda', 'totalDebt', 'quickRatio', 'currentRatio', 'totalRevenue', 'debtToEquity', 'revenuePerShare', 'returnOnAssets', 'returnOnEquity', 'freeCashflow', 'operatingCashflow', 'earningsGrowth', 'revenueGrowth', 'grossMargins', 'ebitdaMargins', 'operatingMargins', 'financialCurrency', 'trailingPegRatio'])"
            ]
          },
          "metadata": {},
          "execution_count": 22
        }
      ]
    },
    {
      "cell_type": "code",
      "source": [
        "genie.info[\"exchange\"]"
      ],
      "metadata": {
        "colab": {
          "base_uri": "https://localhost:8080/",
          "height": 36
        },
        "id": "8NnG8EubcUAa",
        "outputId": "8e770294-63bf-4d17-c665-c53f89cb6ad3"
      },
      "execution_count": null,
      "outputs": [
        {
          "output_type": "execute_result",
          "data": {
            "text/plain": [
              "'NMS'"
            ],
            "application/vnd.google.colaboratory.intrinsic+json": {
              "type": "string"
            }
          },
          "metadata": {},
          "execution_count": 23
        }
      ]
    }
  ]
}